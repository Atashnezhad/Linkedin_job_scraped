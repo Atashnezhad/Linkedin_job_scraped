{
 "cells": [
  {
   "cell_type": "code",
   "execution_count": 4,
   "metadata": {},
   "outputs": [],
   "source": [
    "import requests\n",
    "from bs4 import BeautifulSoup"
   ]
  },
  {
   "cell_type": "code",
   "execution_count": 5,
   "metadata": {},
   "outputs": [],
   "source": [
    "import numpy as np\n",
    "import pandas as pd\n",
    "from tqdm import tqdm"
   ]
  },
  {
   "cell_type": "code",
   "execution_count": 15,
   "metadata": {},
   "outputs": [],
   "source": [
    "def extract(page):\n",
    "    \n",
    "    \n",
    "    headers = {'User-Agent':'Mozilla/5.0 (Macintosh; Intel Mac OS X 10_15_7) AppleWebKit/537.36 (KHTML, like Gecko) Chrome/90.0.4430.85 Safari/537.36 '}\n",
    "    url = f'https://www.indeed.com/jobs?q=Petroleum+Engineering&l=United+States&start={page}'\n",
    "    r = requests.get(url, headers)\n",
    "    soup = BeautifulSoup(r.content, 'html.parser')\n",
    "#     print(soup)\n",
    "    return soup\n",
    "\n",
    "def trasform(soup):\n",
    "#     divs = soup.find_all('div', class_ = 'jobs-search-results__list list-style-none')\n",
    "    divs = soup.find_all('div', {'class':'jobsearch-SerpJobCard'})\n",
    "    for item in divs:\n",
    "        title = item.find('a').text.strip()\n",
    "        company = item.find('span', class_ = 'company').text.strip()\n",
    "        \n",
    "        try:\n",
    "            salary = item.find('span', class_ = 'salaryText').text.strip()\n",
    "            summary = item.find('div', {'class':'summary'}).text.strip()\n",
    "            \n",
    "        except:\n",
    "            salary = \"\"\n",
    "            summary = \"\"\n",
    "            \n",
    "        job ={'title':title,\n",
    "             'company':company,\n",
    "             'salary':salary,\n",
    "             'summary':summary}\n",
    "        \n",
    "#         print(salary)\n",
    "\n",
    "\n",
    "        joblist.append(job)"
   ]
  },
  {
   "cell_type": "code",
   "execution_count": 20,
   "metadata": {},
   "outputs": [
    {
     "name": "stderr",
     "output_type": "stream",
     "text": [
      "100%|███████████████████████████████████████████████████████████████████| 100/100 [01:18<00:00,  1.27it/s]\n"
     ]
    },
    {
     "data": {
      "text/html": [
       "<div>\n",
       "<style scoped>\n",
       "    .dataframe tbody tr th:only-of-type {\n",
       "        vertical-align: middle;\n",
       "    }\n",
       "\n",
       "    .dataframe tbody tr th {\n",
       "        vertical-align: top;\n",
       "    }\n",
       "\n",
       "    .dataframe thead th {\n",
       "        text-align: right;\n",
       "    }\n",
       "</style>\n",
       "<table border=\"1\" class=\"dataframe\">\n",
       "  <thead>\n",
       "    <tr style=\"text-align: right;\">\n",
       "      <th></th>\n",
       "      <th>title</th>\n",
       "      <th>company</th>\n",
       "      <th>salary</th>\n",
       "      <th>summary</th>\n",
       "    </tr>\n",
       "  </thead>\n",
       "  <tbody>\n",
       "    <tr>\n",
       "      <th>0</th>\n",
       "      <td>Vice President of Operations</td>\n",
       "      <td>Millennium PetroCapital Corporation</td>\n",
       "      <td>From $90,000 a year</td>\n",
       "      <td>The Vice President of Operations (VPO) is resp...</td>\n",
       "    </tr>\n",
       "    <tr>\n",
       "      <th>1</th>\n",
       "      <td>PETROLEUM SCIENTIST 1-3</td>\n",
       "      <td>State of Louisiana</td>\n",
       "      <td>$3,999 - $7,006 a month</td>\n",
       "      <td>A bachelor's degree with 24 hours in petroleum...</td>\n",
       "    </tr>\n",
       "    <tr>\n",
       "      <th>2</th>\n",
       "      <td>Senior Petroleum Engineer</td>\n",
       "      <td>Killam</td>\n",
       "      <td></td>\n",
       "      <td></td>\n",
       "    </tr>\n",
       "    <tr>\n",
       "      <th>3</th>\n",
       "      <td>Permian Basin Production Engineering Manager</td>\n",
       "      <td>Percussion Petroleum</td>\n",
       "      <td>Up to $250,000 a year</td>\n",
       "      <td>8 – 15 years minimum experience in production ...</td>\n",
       "    </tr>\n",
       "    <tr>\n",
       "      <th>4</th>\n",
       "      <td>Engineering Summer Intern</td>\n",
       "      <td>Vernon E. Faulconer</td>\n",
       "      <td></td>\n",
       "      <td></td>\n",
       "    </tr>\n",
       "  </tbody>\n",
       "</table>\n",
       "</div>"
      ],
      "text/plain": [
       "                                          title  \\\n",
       "0                  Vice President of Operations   \n",
       "1                       PETROLEUM SCIENTIST 1-3   \n",
       "2                     Senior Petroleum Engineer   \n",
       "3  Permian Basin Production Engineering Manager   \n",
       "4                     Engineering Summer Intern   \n",
       "\n",
       "                               company                   salary  \\\n",
       "0  Millennium PetroCapital Corporation      From $90,000 a year   \n",
       "1                   State of Louisiana  $3,999 - $7,006 a month   \n",
       "2                               Killam                            \n",
       "3                 Percussion Petroleum    Up to $250,000 a year   \n",
       "4                  Vernon E. Faulconer                            \n",
       "\n",
       "                                             summary  \n",
       "0  The Vice President of Operations (VPO) is resp...  \n",
       "1  A bachelor's degree with 24 hours in petroleum...  \n",
       "2                                                     \n",
       "3  8 – 15 years minimum experience in production ...  \n",
       "4                                                     "
      ]
     },
     "execution_count": 20,
     "metadata": {},
     "output_type": "execute_result"
    }
   ],
   "source": [
    "joblist = []\n",
    "\n",
    "\n",
    "for i in tqdm(range(0,100)):\n",
    "    c = extract(i)\n",
    "    # # print(c)\n",
    "    trasform(c)\n",
    "\n",
    "\n",
    "\n",
    "Jobs = pd.DataFrame(joblist)\n",
    "Jobs.head()"
   ]
  },
  {
   "cell_type": "code",
   "execution_count": 21,
   "metadata": {},
   "outputs": [
    {
     "data": {
      "text/plain": [
       "(1160, 4)"
      ]
     },
     "execution_count": 21,
     "metadata": {},
     "output_type": "execute_result"
    }
   ],
   "source": [
    "Jobs.shape"
   ]
  },
  {
   "cell_type": "code",
   "execution_count": 23,
   "metadata": {},
   "outputs": [],
   "source": [
    "Jobs.to_csv('petroleum-jobs-usa.csv')"
   ]
  },
  {
   "cell_type": "code",
   "execution_count": null,
   "metadata": {},
   "outputs": [],
   "source": []
  },
  {
   "cell_type": "code",
   "execution_count": null,
   "metadata": {},
   "outputs": [],
   "source": []
  },
  {
   "cell_type": "code",
   "execution_count": null,
   "metadata": {},
   "outputs": [],
   "source": []
  }
 ],
 "metadata": {
  "kernelspec": {
   "display_name": "Python 3",
   "language": "python",
   "name": "python3"
  },
  "language_info": {
   "codemirror_mode": {
    "name": "ipython",
    "version": 3
   },
   "file_extension": ".py",
   "mimetype": "text/x-python",
   "name": "python",
   "nbconvert_exporter": "python",
   "pygments_lexer": "ipython3",
   "version": "3.6.4"
  }
 },
 "nbformat": 4,
 "nbformat_minor": 2
}
