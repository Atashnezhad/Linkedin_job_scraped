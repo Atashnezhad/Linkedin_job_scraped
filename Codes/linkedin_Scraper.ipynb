{
 "cells": [
  {
   "cell_type": "code",
   "execution_count": 2,
   "metadata": {},
   "outputs": [],
   "source": [
    "import requests\n",
    "from bs4 import BeautifulSoup"
   ]
  },
  {
   "cell_type": "code",
   "execution_count": 63,
   "metadata": {},
   "outputs": [],
   "source": [
    "def extract(page):\n",
    "\n",
    "    headers = {'User-Agent': 'Mozilla/5.0 (Windows NT 10.0; Win64; x64) AppleWebKit/537.36 (KHTML, like Gecko) Chrome/90.0.4430.212 Safari/537.36'}\n",
    "    url = f'https://www.linkedin.com/search/results/people/?industry=%5B%2257%22%2C%2254%22%5D&keywords=petroleum%20engineering&origin=FACETED_SEARCH&page={page}&profileLanguage=%5B%22en%22%5D'\n",
    "    r = requests.get(url, headers)\n",
    "    soup = BeautifulSoup(r.content, 'html.parser')\n",
    "    print('r.status_code = ', r.status_code)\n",
    "\n",
    "    return soup\n",
    "    \n",
    "def trasform(soup):\n",
    "\n",
    "    divs = soup.find_all('div', {'class':'entity-result__content entity-result__divider'})\n",
    "\n",
    "    return len(divs)   "
   ]
  },
  {
   "cell_type": "code",
   "execution_count": 66,
   "metadata": {},
   "outputs": [
    {
     "data": {
      "text/plain": [
       "36"
      ]
     },
     "execution_count": 66,
     "metadata": {},
     "output_type": "execute_result"
    }
   ],
   "source": [
    "# soup = extract(1)\n",
    "len(soup)"
   ]
  },
  {
   "cell_type": "code",
   "execution_count": 67,
   "metadata": {},
   "outputs": [
    {
     "name": "stdout",
     "output_type": "stream",
     "text": [
      "r.status_code =  200\n"
     ]
    },
    {
     "data": {
      "text/plain": [
       "36"
      ]
     },
     "execution_count": 67,
     "metadata": {},
     "output_type": "execute_result"
    }
   ],
   "source": [
    "# soup_2 = extract(2)\n",
    "len(soup_2)"
   ]
  },
  {
   "cell_type": "code",
   "execution_count": 68,
   "metadata": {},
   "outputs": [
    {
     "name": "stdout",
     "output_type": "stream",
     "text": [
      "<!DOCTYPE html>\n",
      "<html lang=\"en\"><head><meta content=\"d_registration-cold-join\" name=\"pageKey\"/><meta content=\"en_US\" name=\"locale\"/><meta data-app-id=\"com.linkedin.registration-frontend.d_web\" data-app-version=\"\" data-custom-tracking-code=\"\" data-jet-tags=\"\" data-multiproduct-name=\"registration-fe\" data-service-name=\"registration-frontend\" data-tracking-page-type=\"\" id=\"config\"><meta data-use-location-for-dp=\"\" data-use-page-title=\"\" id=\"google-analytics-config\"><link href=\"https://www.linkedin.com/signup\" rel=\"canonical\"/><link crossorigin=\"use-credentials\" href=\"/homepage-guest/manifest.json\" rel=\"manifest\"><link href=\"https://static-exp1.licdn.com/sc/h/al2o9zrvru7aqj8e1x2rzsrca\" rel=\"icon\"/><script>function getDfd() {let yFn,nFn;const p=new Promise((y, n)=>{yFn=y;nFn=n;});p.resolve=yFn;p.reject=nFn;return p;}window.lazyloader = getDfd();window.tracking = getDfd();window.impressionTracking = getDfd();window.pemTracking = getDfd();window.ingraphTracking = getDfd();window.appDetection = getDfd();</script><title>Sign Up | LinkedIn</title><meta content=\"500 million+ members | Manage your professional identity. Build and engage with your professional network. Access knowledge, insights and opportunities.\" name=\"description\"/><meta content=\"Sign Up | LinkedIn\" property=\"og:title\"><meta content=\"500 million+ members | Manage your professional identity. Build and engage with your professional network. Access knowledge, insights and opportunities.\" property=\"og:description\"/><meta content=\"https://static-exp1.licdn.com/scds/common/u/images/logos/favicons/v1/favicon.ico\" property=\"og:image\"/><meta content=\"article\" property=\"og:type\"/><meta content=\"https://www.linkedin.com/signup\" property=\"og:url\"/><meta content=\"summary\" name=\"twitter:card\"/><meta content=\"@linkedin\" name=\"twitter:site\"/><meta content=\"Sign Up | LinkedIn\" name=\"twitter:title\"/><meta content=\"500 million+ members | Manage your professional identity. Build and engage with your professional network. Access knowledge, insights and opportunities.\" name=\"twitter:description\"/><meta content=\"https://static-exp1.licdn.com/scds/common/u/images/logos/favicons/v1/favicon.ico\" name=\"twitter:image\"/><meta content=\"noarchive\" name=\"robots\"/><meta content=\"https://static-exp1.licdn.com/sc/h/6sz1e821vgereyxaakx87tt4z\" id=\"artdeco/static/images/icons.svg\" name=\"asset-url\"/><style>/* this prevents animations from running when the page is initially loaded */.page--isLoading * {transition: none !important;}</style><link href=\"https://static-exp1.licdn.com/sc/h/6rdfz2v5fqc9asqrfur9zpcva\" rel=\"stylesheet\">\n",
      "<link href=\"https://static-exp1.licdn.com/sc/h/9aa61s0d23hk3quoix3hcj86v\" rel=\"stylesheet\"/>\n",
      "<link href=\"https://static-exp1.licdn.com/sc/h/31q2w57z8adc8sloy2pqcty2s\" rel=\"stylesheet\"/>\n",
      "<link href=\"https://static-exp1.licdn.com/sc/h/31q2w57z8adc8sloy2pqcty2s\" rel=\"stylesheet\"/>\n",
      "</link></meta></link></meta></meta></head><body><div class=\"page page--isLoading page--is-mercado-theme-enabled page--is-mercado-theme-enabled\"><main class=\"main\"><code id=\"registrationUrl\" style=\"display: none;\"><!--\"/signup/api/cors/createAccount?trk=login_reg_redirect\"--></code><code id=\"dust-var-isSameSiteAttrEnabled\" style=\"display: none;\"><!--false--></code><code id=\"dust-var-mwebMercadoMod\" style=\"display: none;\"><!--false--></code><code id=\"i18n_continue\" style=\"display: none;\"><!--\"Continue\"--></code><code id=\"dust-var-isSplitJoinForm\" style=\"display: none;\"><!--\"true\"--></code><code id=\"dust-var-isSmartLockEnabled\" style=\"display: none;\"><!--\"true\"--></code><code id=\"dust-var-joinBtnProvider\" style=\"display: none;\"><!--\"GOOGLE\"--></code><code id=\"dust-var-isMobile\" style=\"display: none;\"><!--false--></code><code id=\"dust-var-invitationId\" style=\"display: none;\"><!--false--></code><code id=\"dust-var-sharedKey\" style=\"display: none;\"><!--false--></code><code id=\"dust-var-cancelOnboardingRedirect\" style=\"display: none;\"><!--false--></code><code id=\"dust-var-postOnboardingRedirectUrl\" style=\"display: none;\"><!--\"https://www.linkedin.com/search/results/people/?industry=%5B%2257%22%2C%2254%22%5D&keywords=petroleum%20engineering&origin=FACETED_SEARCH&page=2&profileLanguage=%5B%22en%22%5D&User-Agent=Mozilla%2F5.0+%28Windows+NT+10.0%3B+Win64%3B+x64%29+AppleWebKit%2F537.36+%28KHTML%2C+like+Gecko%29+Chrome%2F90.0.4430.212+Safari%2F537.36\"--></code><code id=\"dust-var-source\" style=\"display: none;\"><!--false--></code><code id=\"dust-var-fpLixTreatment\" style=\"display: none;\"><!--\"enabled\"--></code><code id=\"dust-var-pemDegradationTrackingTreatment\" style=\"display: none;\"><!--\"control\"--></code><code id=\"dust-var-sendConfirmationEmail\" style=\"display: none;\"><!--\"true\"--></code><code id=\"dust-var-isInlineError\" style=\"display: none;\"><!--\"true\"--></code><code id=\"dust-var-isInstantThirdPartyBtnEnabled\" style=\"display: none;\"><!--\"true\"--></code><form class=\"join-form\"><header class=\"main__header\"><div class=\"main__logo-container\" tabindex=\"0\"><icon a11y-text=\"LinkedIn\" class=\"main__logo\" data-delayed-url=\"https://static-exp1.licdn.com/sc/h/ci0l2cumjj4m4gmazvviqvp47\"></icon></div><h1 class=\"main__subtitle main__subtitle--is-cold-join main__subtitle--mod-A\">Make the most of your professional life</h1></header><div class=\"profile-card hidden\"><div class=\"profile-card__content\"><img alt=\"profile photo\" class=\"profile-card__photo\"/><li-icon aria-hidden=\"true\" class=\"profile-card__edit-icon\" size=\"small\" title=\"edit\" type=\"pencil-icon\"></li-icon><div class=\"profile-card__info\"><h3 class=\"profile-card__info-name\"></h3><h3 class=\"profile-card__info-email\"></h3></div><span class=\"profile-card__not-you\">Not you?</span></div></div><div class=\"profile-card__edit-photo-modal hidden\"><div class=\"profile-card__edit-photo-content\"><div class=\"profile-card__edit-photo-cancel\"><li-icon aria-hidden=\"true\" class=\"profile-card__edit-photo-cancel-icon\" size=\"small\" title=\"edit\" type=\"cancel-icon\"></li-icon></div><div class=\"profile-card__edit-photo-remove\"><p class=\"profile-card__edit-photo-text\">Remove Photo</p></div></div></div><section class=\"join-form__form-body\"><div class=\"join-form__form-input-container join-form__form-input-container--is-last-section join-form__form-input-container--is-hidden\"><label class=\"input__label\" for=\"first-name\">First name</label><input autocomplete=\"on\" class=\"input__input\" id=\"first-name\" name=\"first-name\" placeholder=\"First name\" required=\"\" type=\"text\" value=\"\"/><label class=\"input__label\" for=\"last-name\">Last name</label><input autocomplete=\"on\" class=\"input__input\" id=\"last-name\" name=\"last-name\" placeholder=\"Last name\" required=\"\" type=\"text\" value=\"\"/></div><div class=\"join-form__form-input-container\"><label class=\"input__label\" for=\"email-address\">Email</label><input class=\"input__input\" id=\"email-address\" name=\"email-address\" placeholder=\"Email\" required=\"\" type=\"email\" value=\"\"/><label class=\"input__label\" for=\"password\">Password (6 or more characters)</label><input autocomplete=\"new-password\" class=\"input__input\" id=\"password\" name=\"password\" placeholder=\"Password (6 or more characters)\" required=\"\" type=\"password\" value=\"\"/></div><span class=\"join-form__form-body-agreement\" data-is-not-yielded=\"true\">By clicking Agree &amp; Join, you agree to the LinkedIn <a class=\"join-form__form-body-agreement-item-link\" data-tracking-control-name=\"registration-frontend_join-form-user-agreement\" data-tracking-will-navigate=\"\" href=\"https://www.linkedin.com/legal/user-agreement?session_redirect=https%3A%2F%2Fwww%2Elinkedin%2Ecom%2Fsearch%2Fresults%2Fpeople%2F%3Findustry%3D%255B%252257%2522%252C%252254%2522%255D%26keywords%3Dpetroleum%2520engineering%26origin%3DFACETED_SEARCH%26page%3D2%26profileLanguage%3D%255B%2522en%2522%255D%26User-Agent%3DMozilla%252F5%2E0%2B%2528Windows%2BNT%2B10%2E0%253B%2BWin64%253B%2Bx64%2529%2BAppleWebKit%252F537%2E36%2B%2528KHTML%252C%2Blike%2BGecko%2529%2BChrome%252F90%2E0%2E4430%2E212%2BSafari%252F537%2E36&amp;amp;trk=registration-frontend_join-form-user-agreement\" target=\"_blank\">User Agreement</a>, <a class=\"join-form__form-body-agreement-item-link\" data-tracking-control-name=\"registration-frontend_join-form-privacy-policy\" data-tracking-will-navigate=\"\" href=\"https://www.linkedin.com/legal/privacy-policy?session_redirect=https%3A%2F%2Fwww%2Elinkedin%2Ecom%2Fsearch%2Fresults%2Fpeople%2F%3Findustry%3D%255B%252257%2522%252C%252254%2522%255D%26keywords%3Dpetroleum%2520engineering%26origin%3DFACETED_SEARCH%26page%3D2%26profileLanguage%3D%255B%2522en%2522%255D%26User-Agent%3DMozilla%252F5%2E0%2B%2528Windows%2BNT%2B10%2E0%253B%2BWin64%253B%2Bx64%2529%2BAppleWebKit%252F537%2E36%2B%2528KHTML%252C%2Blike%2BGecko%2529%2BChrome%252F90%2E0%2E4430%2E212%2BSafari%252F537%2E36&amp;amp;trk=registration-frontend_join-form-privacy-policy\" target=\"_blank\">Privacy Policy</a>, and  <a class=\"join-form__form-body-agreement-item-link\" data-tracking-control-name=\"registration-frontend_join-form-cookie-policy\" data-tracking-will-navigate=\"\" href=\"https://www.linkedin.com/legal/cookie-policy?session_redirect=https%3A%2F%2Fwww%2Elinkedin%2Ecom%2Fsearch%2Fresults%2Fpeople%2F%3Findustry%3D%255B%252257%2522%252C%252254%2522%255D%26keywords%3Dpetroleum%2520engineering%26origin%3DFACETED_SEARCH%26page%3D2%26profileLanguage%3D%255B%2522en%2522%255D%26User-Agent%3DMozilla%252F5%2E0%2B%2528Windows%2BNT%2B10%2E0%253B%2BWin64%253B%2Bx64%2529%2BAppleWebKit%252F537%2E36%2B%2528KHTML%252C%2Blike%2BGecko%2529%2BChrome%252F90%2E0%2E4430%2E212%2BSafari%252F537%2E36&amp;amp;trk=registration-frontend_join-form-cookie-policy\" target=\"_blank\">Cookie Policy</a>. </span><button class=\"join-form__form-body-submit-button\" data-tracking-control-name=\"registration-frontend_join-form-submit\" id=\"join-form-submit\" type=\"submit\" value=\"Agree &amp; Join\">Agree &amp; Join</button><code id=\"dust-var-callbackUrl\" style=\"display: none;\"><!--\"/signup/third-party-call-back/\"--></code><code id=\"dust-var-authUrl\" style=\"display: none;\"><!--\"/xauth/startauth?_authEd=AgHQwzbLsfDk_AAAAXl64PIliV3U-ZbMGosqqQB8CHUzLJ0bJKLco5EFSI2hbdNPyMXvQDInUp7E6KemDNWAV5ELyiMl_QLIuXIYn2ZzjZVeaCwDsYS3Oj4atAq8iWsRa5AHt0fEln6udesYCjie6ugbUxUsy8TVg_zGs-JjL7Pylu4b-PHFjtnBx7WIrK0CUd99s5htrTD9JNtKHP01A6-1rHW_UoC8xGfg_MXENQ\"--></code><code id=\"dust-var-useStandaloneLibrary\" style=\"display: none;\"><!--false--></code><code id=\"i18n_third_party_join_error-message-facebook\" style=\"display: none;\"><!--\"Sorry, we were unable to pull in your Facebook information. Please try again.\"--></code><code id=\"i18n_third_party_join_error-message-google\" style=\"display: none;\"><!--\"Sorry, we were unable to pull in your Google information. Please try again.\"--></code><code id=\"i18n_third_party_join_error-message-wechat\" style=\"display: none;\"><!--\"Sorry, we were unable to pull in your Wechat information. Please try again.\"--></code><div class=\"third-party-join__container\"><p class=\"third-party-join__reg-option\"><span class=\"third-party-join__line-wrapper\"><span class=\"third-party-join__line\"></span></span><span class=\"third-party-join__content\"><span class=\"third-party-join__or-span\">or</span></span></p><button class=\"third-party-join__btn third-party-join__google-btn\" data-tracking-control-name=\"_join-form-join-with-google\" type=\"button\"><svg class=\"third-party-join__google-icon\" height=\"24px\" preserveaspectratio=\"xMinYMin meet\" viewbox=\"0 0 24 24\" width=\"24px\" x=\"0\" y=\"0\"><g class=\"color-icon\"><path d=\"M12.1,5.8c1.6-0.1,3.1,0.5,4.3,1.6l2.6-2.7c-1.9-1.8-4.4-2.7-6.9-2.7c-3.8,0-7.2,2-9,5.3l3,2.4C7.1,7.2,9.5,5.7,12.1,5.8z\" style=\"fill:#E94435\"></path><path d=\"M5.8,12c0-0.8,0.1-1.6,0.4-2.3l-3-2.4C2.4,8.7,2,10.4,2,12c0,1.6,0.4,3.3,1.1,4.7l3.1-2.4C5.9,13.6,5.8,12.8,5.8,12z\" style=\"fill:#F8BB15\"></path><path d=\"M15.8,17.3c-1.2,0.6-2.5,1-3.8,0.9c-2.6,0-4.9-1.5-5.8-3.9l-3.1,2.4C4.9,20,8.3,22.1,12,22c2.5,0.1,4.9-0.8,6.8-2.3L15.8,17.3z\" style=\"fill:#34A751\"></path><path d=\"M22,12c0-0.7-0.1-1.3-0.2-2H12v4h6.1v0.2c-0.3,1.3-1.1,2.4-2.2,3.1l3,2.4C21,17.7,22.1,14.9,22,12z\" style=\"fill:#547DBE\"></path></g></svg><span class=\"third-party-join__google-btn-content\">Join with Google</span></button></div></section></form><section aria-labelledby=\"challenge-title\" class=\"challenge-dialog\" role=\"dialog\" style=\"display: none;\" tabindex=\"-1\"><header class=\"challenge-dialog__header\"><span class=\"challenge-dialog__title\" id=\"challenge-title\">Security verification</span><button class=\"challenge-dialog__close\"><icon a11y-text=\"Close\" data-delayed-url=\"https://static-exp1.licdn.com/sc/h/cs55jggk4p3uqh9ozxdmpvjg7\"></icon></button></header><iframe allowtransparency=\"true\" class=\"challenge-dialog__iframe\" frameborder=\"0\" scrolling=\"auto\" src=\"about:blank\"></iframe></section><code id=\"i18n_required_first-name\" style=\"display: none;\"><!--\"Please enter your first name.\"--></code><code id=\"i18n_tooLong_first-name\" style=\"display: none;\"><!--\"First name can not exceed 50 characters.\"--></code><code id=\"i18n_noForbiddenCharacters_first-name\" style=\"display: none;\"><!--\"Please enter a valid first name.\"--></code><code id=\"i18n_noConsecutiveDigits_first-name\" style=\"display: none;\"><!--\"Please enter a valid first name.\"--></code><code id=\"i18n_noFourConsecutiveDuplicates_first-name\" style=\"display: none;\"><!--\"Please enter a valid first name.\"--></code><code id=\"i18n_noLinkedIn_first-name\" style=\"display: none;\"><!--\"Please enter a valid first name.\"--></code><code id=\"i18n_noUrl_first-name\" style=\"display: none;\"><!--\"Please enter a valid first name.\"--></code><code id=\"i18n_required_last-name\" style=\"display: none;\"><!--\"Please enter your last name.\"--></code><code id=\"i18n_tooLong_last-name\" style=\"display: none;\"><!--\"Last name can not exceed 50 characters.\"--></code><code id=\"i18n_noForbiddenCharacters_last-name\" style=\"display: none;\"><!--\"Please enter a valid last name.\"--></code><code id=\"i18n_noConsecutiveDigits_last-name\" style=\"display: none;\"><!--\"Please enter a valid last name.\"--></code><code id=\"i18n_noFourConsecutiveDuplicates_last-name\" style=\"display: none;\"><!--\"Please enter a valid last name.\"--></code><code id=\"i18n_noLinkedIn_last-name\" style=\"display: none;\"><!--\"Please enter a valid last name.\"--></code><code id=\"i18n_noUrl_last-name\" style=\"display: none;\"><!--\"Please enter a valid last name.\"--></code><code id=\"i18n_onlyPhonetic_phonetic-first-name\" style=\"display: none;\"><!--\"Please use phonetic characters for your phonetic first name.\"--></code><code id=\"i18n_tooLong_phonetic-first-name\" style=\"display: none;\"><!--\"Phonetic first name can not exceed 50 characters.\"--></code><code id=\"i18n_noFourConsecutiveDuplicates_phonetic-first-name\" style=\"display: none;\"><!--\"Please enter a valid phonetic first name.\"--></code><code id=\"i18n_onlyPhonetic_phonetic-last-name\" style=\"display: none;\"><!--\"Please use phonetic characters for your phonetic last name.\"--></code><code id=\"i18n_tooLong_phonetic-last-name\" style=\"display: none;\"><!--\"Phonetic last name can not exceed 50 characters.\"--></code><code id=\"i18n_noFourConsecutiveDuplicates_phonetic-last-name\" style=\"display: none;\"><!--\"Please enter a valid phonetic last name.\"--></code><code id=\"i18n_required_email-or-phone\" style=\"display: none;\"><!--\"Please enter your email address or mobile number.\"--></code><code id=\"i18n_tooLong_email-or-phone\" style=\"display: none;\"><!--\"Email or mobile number must be between 3 to 128 characters.\"--></code><code id=\"i18n_invalidFormat_email-or-phone\" style=\"display: none;\"><!--\"Please enter a valid email address or mobile number.\"--></code><code id=\"i18n_required_password\" style=\"display: none;\"><!--\"Please enter your password.\"--></code><code id=\"i18n_tooShort_password\" style=\"display: none;\"><!--\"Password must be 6 characters or more.\"--></code><code id=\"i18n_tooLong_password\" style=\"display: none;\"><!--\"Your password cannot exceed a maximum of 200 characters.\"--></code><code id=\"i18n_server_generic_error\" style=\"display: none;\"><!--\"Sorry, something went wrong. Please try again.\"--></code><code id=\"i18n_onlyChinese_real-name\" style=\"display: none;\"><!--\"Please use only Chinese characters for real name.\"--></code><code id=\"i18n_tooLong_real-name\" style=\"display: none;\"><!--\"Real name should be 2-4 characters long.\"--></code><code id=\"i18n_tooShort_real-name\" style=\"display: none;\"><!--\"Real name should be 2-4 characters long.\"--></code><code id=\"i18n_required_real-name\" style=\"display: none;\"><!--\"Please enter your real name.\"--></code><script class=\"lazy-load\" data-delayed-url=\"https://static-exp1.licdn.com/sc/h/7v44l5aw6ujgcy3nh3lqxmucj\" data-module-id=\"shape-js\"></script><p class=\"main__sign-in-container\">Already on LinkedIn? <a class=\"main__sign-in-link\" data-tracking-control-name=\"cold_join_sign_in\" data-tracking-litms=\"\" data-tracking-will-navigate=\"\" href=\"https://www.linkedin.com/uas/login?session_redirect=https%3A%2F%2Fwww%2Elinkedin%2Ecom%2Fsearch%2Fresults%2Fpeople%2F%3Findustry%3D%255B%252257%2522%252C%252254%2522%255D%26keywords%3Dpetroleum%2520engineering%26origin%3DFACETED_SEARCH%26page%3D2%26profileLanguage%3D%255B%2522en%2522%255D%26User-Agent%3DMozilla%252F5%2E0%2B%2528Windows%2BNT%2B10%2E0%253B%2BWin64%253B%2Bx64%2529%2BAppleWebKit%252F537%2E36%2B%2528KHTML%252C%2Blike%2BGecko%2529%2BChrome%252F90%2E0%2E4430%2E212%2BSafari%252F537%2E36&amp;fromSignIn=true&amp;trk=cold_join_sign_in\">Sign in</a></p></main><footer class=\"li-footer\"><ul class=\"li-footer__list\"><li class=\"li-footer__item\"><span class=\"sr-only\">LinkedIn</span><icon class=\"li-footer__copy-logo\" data-delayed-url=\"https://static-exp1.licdn.com/sc/h/b11vnqql8f4abtysggvq9v836\"></icon><span class=\"li-footer__copy-text\">© 2020</span></li><li class=\"li-footer__item\"><a class=\"li-footer__item-link\" data-tracking-control-name=\"registration_footer-about\" data-tracking-will-navigate=\"\" href=\"https://about.linkedin.com?trk=registration_footer-about\">About</a></li></ul></footer></div></body></html><li class=\"li-footer__item\"><a class=\"li-footer__item-link\" data-tracking-control-name=\"registration_footer-accessibility\" data-tracking-will-navigate=\"\" href=\"https://www.linkedin.com/accessibility?trk=registration_footer-accessibility\">Accessibility</a></li><li class=\"li-footer__item\"><a class=\"li-footer__item-link\" data-tracking-control-name=\"registration_footer-user-agreement\" data-tracking-will-navigate=\"\" href=\"https://www.linkedin.com/legal/user-agreement?trk=registration_footer-user-agreement\">User Agreement</a></li><li class=\"li-footer__item\"><a class=\"li-footer__item-link\" data-tracking-control-name=\"registration_footer-privacy-policy\" data-tracking-will-navigate=\"\" href=\"https://www.linkedin.com/legal/privacy-policy?trk=registration_footer-privacy-policy\">Privacy Policy</a></li><li class=\"li-footer__item\"><a class=\"li-footer__item-link\" data-tracking-control-name=\"registration_footer-cookie-policy\" data-tracking-will-navigate=\"\" href=\"https://www.linkedin.com/legal/cookie-policy?trk=registration_footer-cookie-policy\">Cookie Policy</a></li><li class=\"li-footer__item\"><a class=\"li-footer__item-link\" data-tracking-control-name=\"registration_footer-copyright-policy\" data-tracking-will-navigate=\"\" href=\"https://www.linkedin.com/legal/copyright-policy?trk=registration_footer-copyright-policy\">Copyright Policy</a></li><li class=\"li-footer__item\"><a class=\"li-footer__item-link\" data-tracking-control-name=\"registration_footer-brand-policy\" data-tracking-will-navigate=\"\" href=\"https://brand.linkedin.com/policies?trk=registration_footer-brand-policy\">Brand Policy</a></li><li class=\"li-footer__item\"><a class=\"li-footer__item-link\" data-tracking-control-name=\"registration_footer-guest-controls\" data-tracking-will-navigate=\"\" href=\"https://www.linkedin.com/psettings/guest-controls?trk=registration_footer-guest-controls\">Guest Controls</a></li><li class=\"li-footer__item\"><a class=\"li-footer__item-link\" data-tracking-control-name=\"registration_footer-community-guide\" data-tracking-will-navigate=\"\" href=\"https://www.linkedin.com/help/linkedin/answer/34593?lang=en&amp;trk=registration_footer-community-guide\">Community Guidelines</a></li><li class=\"li-footer__item\"><div class=\"collapsible-dropdown language-selector collapsible-dropdown--footer language-selector--footer collapsible-dropdown--up language-selector--up\"><ul class=\"collapsible-dropdown__list language-selector__list hidden\" role=\"menu\"><li aria-label=\"العربية (Arabic)\" class=\"language-selector__item\" role=\"menuitem\"><button aria-label=\"العربية (Arabic)\" class=\"language-selector__link\" data-locale=\"ar_AE\" data-tracking-control-name=\"language-selector-ar_AE\" lang=\"ar_AE\">العربية (Arabic)</button></li><li aria-label=\"Čeština (Czech)\" class=\"language-selector__item\" role=\"menuitem\"><button aria-label=\"Čeština (Czech)\" class=\"language-selector__link\" data-locale=\"cs_CZ\" data-tracking-control-name=\"language-selector-cs_CZ\" lang=\"cs_CZ\">Čeština (Czech)</button></li><li aria-label=\"Dansk (Danish)\" class=\"language-selector__item\" role=\"menuitem\"><button aria-label=\"Dansk (Danish)\" class=\"language-selector__link\" data-locale=\"da_DK\" data-tracking-control-name=\"language-selector-da_DK\" lang=\"da_DK\">Dansk (Danish)</button></li><li aria-label=\"Deutsch (German)\" class=\"language-selector__item\" role=\"menuitem\"><button aria-label=\"Deutsch (German)\" class=\"language-selector__link\" data-locale=\"de_DE\" data-tracking-control-name=\"language-selector-de_DE\" lang=\"de_DE\">Deutsch (German)</button></li><li aria-label=\"English (English) selected\" class=\"language-selector__item\" role=\"menuitem\"><button aria-label=\"English (English) selected\" class=\"language-selector__link language-selector__link--selected\" data-locale=\"en_US\" data-tracking-control-name=\"language-selector-en_US\" lang=\"en_US\"><strong>English (English)</strong></button></li><li aria-label=\"Español (Spanish)\" class=\"language-selector__item\" role=\"menuitem\"><button aria-label=\"Español (Spanish)\" class=\"language-selector__link\" data-locale=\"es_ES\" data-tracking-control-name=\"language-selector-es_ES\" lang=\"es_ES\">Español (Spanish)</button></li><li aria-label=\"Français (French)\" class=\"language-selector__item\" role=\"menuitem\"><button aria-label=\"Français (French)\" class=\"language-selector__link\" data-locale=\"fr_FR\" data-tracking-control-name=\"language-selector-fr_FR\" lang=\"fr_FR\">Français (French)</button></li><li aria-label=\"Bahasa Indonesia (Bahasa Indonesia)\" class=\"language-selector__item\" role=\"menuitem\"><button aria-label=\"Bahasa Indonesia (Bahasa Indonesia)\" class=\"language-selector__link\" data-locale=\"in_ID\" data-tracking-control-name=\"language-selector-in_ID\" lang=\"in_ID\">Bahasa Indonesia (Bahasa Indonesia)</button></li><li aria-label=\"Italiano (Italian)\" class=\"language-selector__item\" role=\"menuitem\"><button aria-label=\"Italiano (Italian)\" class=\"language-selector__link\" data-locale=\"it_IT\" data-tracking-control-name=\"language-selector-it_IT\" lang=\"it_IT\">Italiano (Italian)</button></li><li aria-label=\"日本語 (Japanese)\" class=\"language-selector__item\" role=\"menuitem\"><button aria-label=\"日本語 (Japanese)\" class=\"language-selector__link\" data-locale=\"ja_JP\" data-tracking-control-name=\"language-selector-ja_JP\" lang=\"ja_JP\">日本語 (Japanese)</button></li><li aria-label=\"한국어 (Korean)\" class=\"language-selector__item\" role=\"menuitem\"><button aria-label=\"한국어 (Korean)\" class=\"language-selector__link\" data-locale=\"ko_KR\" data-tracking-control-name=\"language-selector-ko_KR\" lang=\"ko_KR\">한국어 (Korean)</button></li><li aria-label=\"Bahasa Malaysia (Malay)\" class=\"language-selector__item\" role=\"menuitem\"><button aria-label=\"Bahasa Malaysia (Malay)\" class=\"language-selector__link\" data-locale=\"ms_MY\" data-tracking-control-name=\"language-selector-ms_MY\" lang=\"ms_MY\">Bahasa Malaysia (Malay)</button></li><li aria-label=\"Nederlands (Dutch)\" class=\"language-selector__item\" role=\"menuitem\"><button aria-label=\"Nederlands (Dutch)\" class=\"language-selector__link\" data-locale=\"nl_NL\" data-tracking-control-name=\"language-selector-nl_NL\" lang=\"nl_NL\">Nederlands (Dutch)</button></li><li aria-label=\"Norsk (Norwegian)\" class=\"language-selector__item\" role=\"menuitem\"><button aria-label=\"Norsk (Norwegian)\" class=\"language-selector__link\" data-locale=\"no_NO\" data-tracking-control-name=\"language-selector-no_NO\" lang=\"no_NO\">Norsk (Norwegian)</button></li><li aria-label=\"Polski (Polish)\" class=\"language-selector__item\" role=\"menuitem\"><button aria-label=\"Polski (Polish)\" class=\"language-selector__link\" data-locale=\"pl_PL\" data-tracking-control-name=\"language-selector-pl_PL\" lang=\"pl_PL\">Polski (Polish)</button></li><li aria-label=\"Português (Portuguese)\" class=\"language-selector__item\" role=\"menuitem\"><button aria-label=\"Português (Portuguese)\" class=\"language-selector__link\" data-locale=\"pt_BR\" data-tracking-control-name=\"language-selector-pt_BR\" lang=\"pt_BR\">Português (Portuguese)</button></li><li aria-label=\"Română (Romanian)\" class=\"language-selector__item\" role=\"menuitem\"><button aria-label=\"Română (Romanian)\" class=\"language-selector__link\" data-locale=\"ro_RO\" data-tracking-control-name=\"language-selector-ro_RO\" lang=\"ro_RO\">Română (Romanian)</button></li><li aria-label=\"Русский (Russian)\" class=\"language-selector__item\" role=\"menuitem\"><button aria-label=\"Русский (Russian)\" class=\"language-selector__link\" data-locale=\"ru_RU\" data-tracking-control-name=\"language-selector-ru_RU\" lang=\"ru_RU\">Русский (Russian)</button></li><li aria-label=\"Svenska (Swedish)\" class=\"language-selector__item\" role=\"menuitem\"><button aria-label=\"Svenska (Swedish)\" class=\"language-selector__link\" data-locale=\"sv_SE\" data-tracking-control-name=\"language-selector-sv_SE\" lang=\"sv_SE\">Svenska (Swedish)</button></li><li aria-label=\"ภาษาไทย (Thai)\" class=\"language-selector__item\" role=\"menuitem\"><button aria-label=\"ภาษาไทย (Thai)\" class=\"language-selector__link\" data-locale=\"th_TH\" data-tracking-control-name=\"language-selector-th_TH\" lang=\"th_TH\">ภาษาไทย (Thai)</button></li><li aria-label=\"Tagalog (Tagalog)\" class=\"language-selector__item\" role=\"menuitem\"><button aria-label=\"Tagalog (Tagalog)\" class=\"language-selector__link\" data-locale=\"tl_PH\" data-tracking-control-name=\"language-selector-tl_PH\" lang=\"tl_PH\">Tagalog (Tagalog)</button></li><li aria-label=\"Türkçe (Turkish)\" class=\"language-selector__item\" role=\"menuitem\"><button aria-label=\"Türkçe (Turkish)\" class=\"language-selector__link\" data-locale=\"tr_TR\" data-tracking-control-name=\"language-selector-tr_TR\" lang=\"tr_TR\">Türkçe (Turkish)</button></li><li aria-label=\"简体中文 (Chinese (Simplified))\" class=\"language-selector__item\" role=\"menuitem\"><button aria-label=\"简体中文 (Chinese (Simplified))\" class=\"language-selector__link\" data-locale=\"zh_CN\" data-tracking-control-name=\"language-selector-zh_CN\" lang=\"zh_CN\">简体中文 (Chinese (Simplified))</button></li><li aria-label=\"正體中文 (Chinese (Traditional))\" class=\"language-selector__item\" role=\"menuitem\"><button aria-label=\"正體中文 (Chinese (Traditional))\" class=\"language-selector__link\" data-locale=\"zh_TW\" data-tracking-control-name=\"language-selector-zh_TW\" lang=\"zh_TW\">正體中文 (Chinese (Traditional))</button></li></ul><button aria-expanded=\"false\" class=\"language-selector__button\" data-tracking-control-name=\"footer-lang-dropdown_trigger\"><span class=\"language-selector__label-text\">Language</span><icon class=\"language-selector__label-chevron\" data-delayed-url=\"https://static-exp1.licdn.com/sc/h/cyolgscd0imw2ldqppkrb84vo\"></icon></button></div></li><div class=\"page__overlay hidden\"></div><div class=\"toasts toasts--bottom\" data-close-toast-string=\"Close\" id=\"toasts\" type=\"bottom\"></div><script data-delayed-url=\"https://static-exp1.licdn.com/sc/h/9x1ka0d4advijnuxgxnyns6ne\" data-module-id=\"google-one-tap-lib\"></script><script async=\"\" defer=\"\" src=\"https://static-exp1.licdn.com/sc/h/a8ftujtk3a1kx5lh8z7yocodf\"></script><script async=\"\" defer=\"\" src=\"https://static-exp1.licdn.com/sc/h/3j12a5awf32tx22n8hw31dk01\"></script><script async=\"\" src=\"https://static-exp1.licdn.com/sc/h/58ikgnh04in2ngtxjdu5jjic1\"></script><code id=\"dust-var-isMobile\" style=\"display: none;\"><!--false--></code><code id=\"dust-var-i18nAgree\" style=\"display: none;\"><!--\"Agree &amp; Join\"--></code><code id=\"dust-var-i18nContinue\" style=\"display: none;\"><!--\"Continue\"--></code><code id=\"dust-var-isOpendoorV2Part1\" style=\"display: none;\"><!--false--></code><code id=\"dust-var-isLegalAgreementOnStep2\" style=\"display: none;\"><!--false--></code><code id=\"dust-var-hasSplitJoinAnimations\" style=\"display: none;\"><!--false--></code><code id=\"dust-var-hasOpendoorv2CopyChanges\" style=\"display: none;\"><!--false--></code><code id=\"dust-var-hasSplitPasswordAndEmail\" style=\"display: none;\"><!--false--></code><code id=\"dust-var-hasInlineErrors\" style=\"display: none;\"><!--\"true\"--></code><code id=\"dust-var-hasPageHelpLinkV2\" style=\"display: none;\"><!--false--></code><!-- wwe errors --><code id=\"i18n_invalidFormat_phone-number\" style=\"display: none;\"><!--\"Please enter a valid mobile number.\"--></code><code id=\"i18n_required_phone-number\" style=\"display: none;\"><!--\"Please enter your mobile number.\"--></code><code id=\"i18n_tooLong_phone-number\" style=\"display: none;\"><!--\"Mobile number must be between 3 to 128 characters.\"--></code><code id=\"i18n_invalidFormat_phone-number\" style=\"display: none;\"><!--\"Please enter a valid mobile number.\"--></code><!-- email only errors --><code id=\"i18n_invalidFormat_email-address\" style=\"display: none;\"><!--\"Please enter a valid email address.\"--></code><code id=\"i18n_required_email-address\" style=\"display: none;\"><!--\"Please enter your email address.\"--></code><code id=\"i18n_tooLong_email-address\" style=\"display: none;\"><!--\"Email must be between 3 to 128 characters.\"--></code>\n"
     ]
    }
   ],
   "source": [
    "print(soup_2)"
   ]
  },
  {
   "cell_type": "code",
   "execution_count": 61,
   "metadata": {},
   "outputs": [],
   "source": [
    "# with open(\"pg_1.html\", \"w\", encoding='utf-8') as file:\n",
    "#     file.write(str(soup))"
   ]
  },
  {
   "cell_type": "code",
   "execution_count": 62,
   "metadata": {},
   "outputs": [
    {
     "data": {
      "text/plain": [
       "0"
      ]
     },
     "execution_count": 62,
     "metadata": {},
     "output_type": "execute_result"
    }
   ],
   "source": [
    "trasform(soup)"
   ]
  },
  {
   "cell_type": "code",
   "execution_count": null,
   "metadata": {},
   "outputs": [],
   "source": []
  },
  {
   "cell_type": "code",
   "execution_count": null,
   "metadata": {},
   "outputs": [],
   "source": []
  },
  {
   "cell_type": "code",
   "execution_count": null,
   "metadata": {},
   "outputs": [],
   "source": [
    "#     return soup\n",
    "\n",
    "# def trasform(soup):\n",
    "# #     divs = soup.find_all('div', class_ = 'jobs-search-results__list list-style-none')\n",
    "#     divs = soup.find_all('div', {'class':'jobs-search-results__list list-style-none'})\n",
    "\n",
    "#     return len(divs)\n",
    "\n",
    "# c = extract()\n",
    "# # print(c)\n",
    "# print(trasform(c))\n",
    "\n",
    "\n",
    "\n",
    "# # class_=\"jobs-search-results display-flex flex-column\"\n"
   ]
  },
  {
   "cell_type": "code",
   "execution_count": null,
   "metadata": {},
   "outputs": [],
   "source": []
  },
  {
   "cell_type": "code",
   "execution_count": null,
   "metadata": {},
   "outputs": [],
   "source": []
  },
  {
   "cell_type": "code",
   "execution_count": null,
   "metadata": {},
   "outputs": [],
   "source": []
  },
  {
   "cell_type": "code",
   "execution_count": null,
   "metadata": {},
   "outputs": [],
   "source": []
  },
  {
   "cell_type": "code",
   "execution_count": null,
   "metadata": {},
   "outputs": [],
   "source": []
  }
 ],
 "metadata": {
  "kernelspec": {
   "display_name": "Python 3 (ipykernel)",
   "language": "python",
   "name": "python3"
  },
  "language_info": {
   "codemirror_mode": {
    "name": "ipython",
    "version": 3
   },
   "file_extension": ".py",
   "mimetype": "text/x-python",
   "name": "python",
   "nbconvert_exporter": "python",
   "pygments_lexer": "ipython3",
   "version": "3.9.7"
  }
 },
 "nbformat": 4,
 "nbformat_minor": 2
}
