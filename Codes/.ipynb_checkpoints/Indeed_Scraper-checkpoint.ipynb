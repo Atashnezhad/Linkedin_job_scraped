{
 "cells": [
  {
   "cell_type": "code",
   "execution_count": 1,
   "metadata": {},
   "outputs": [],
   "source": [
    "import requests\n",
    "from bs4 import BeautifulSoup"
   ]
  },
  {
   "cell_type": "code",
   "execution_count": 14,
   "metadata": {},
   "outputs": [
    {
     "name": "stdout",
     "output_type": "stream",
     "text": [
      "$3,999 - $7,006 a month\n",
      "$20 - $30 an hour\n",
      "$16 - $20 an hour\n",
      "\n",
      "\n",
      "\n",
      "\n",
      "\n",
      "\n",
      "\n",
      "\n",
      "\n",
      "$74,334 - $96,640 a year\n",
      "\n",
      "\n"
     ]
    }
   ],
   "source": [
    "def extract(page):\n",
    "    \n",
    "    \n",
    "    headers = {'User-Agent':'Mozilla/5.0 (Macintosh; Intel Mac OS X 10_15_7) AppleWebKit/537.36 (KHTML, like Gecko) Chrome/90.0.4430.85 Safari/537.36 '}\n",
    "    url = f'https://www.indeed.com/jobs?q=Petroleum+Engineering&l=United+States&start={page}'\n",
    "    r = requests.get(url, headers)\n",
    "    soup = BeautifulSoup(r.content, 'html.parser')\n",
    "    \n",
    "    return soup\n",
    "\n",
    "def trasform(soup):\n",
    "#     divs = soup.find_all('div', class_ = 'jobs-search-results__list list-style-none')\n",
    "    divs = soup.find_all('div', {'class':'jobsearch-SerpJobCard'})\n",
    "    for item in divs:\n",
    "        title = item.find('a').text.strip()\n",
    "        company = item.find('span', class_ = 'company').text.strip()\n",
    "        \n",
    "        try:\n",
    "            salary = item.find('span', class_ = 'salaryText').text.strip()\n",
    "            \n",
    "        except:\n",
    "            salary = \"\"\n",
    "            \n",
    "        \n",
    "        \n",
    "        print(salary)\n",
    "\n",
    "\n",
    "\n",
    "\n",
    "c = extract(0)\n",
    "# # print(c)\n",
    "trasform(c)\n",
    "\n",
    "\n",
    "\n",
    "# class_=\"jobs-search-results display-flex flex-column\"\n"
   ]
  },
  {
   "cell_type": "code",
   "execution_count": null,
   "metadata": {},
   "outputs": [],
   "source": []
  },
  {
   "cell_type": "code",
   "execution_count": null,
   "metadata": {},
   "outputs": [],
   "source": []
  },
  {
   "cell_type": "code",
   "execution_count": null,
   "metadata": {},
   "outputs": [],
   "source": []
  },
  {
   "cell_type": "code",
   "execution_count": null,
   "metadata": {},
   "outputs": [],
   "source": []
  },
  {
   "cell_type": "code",
   "execution_count": null,
   "metadata": {},
   "outputs": [],
   "source": []
  },
  {
   "cell_type": "code",
   "execution_count": null,
   "metadata": {},
   "outputs": [],
   "source": []
  }
 ],
 "metadata": {
  "kernelspec": {
   "display_name": "Python 3",
   "language": "python",
   "name": "python3"
  },
  "language_info": {
   "codemirror_mode": {
    "name": "ipython",
    "version": 3
   },
   "file_extension": ".py",
   "mimetype": "text/x-python",
   "name": "python",
   "nbconvert_exporter": "python",
   "pygments_lexer": "ipython3",
   "version": "3.7.0"
  }
 },
 "nbformat": 4,
 "nbformat_minor": 2
}
